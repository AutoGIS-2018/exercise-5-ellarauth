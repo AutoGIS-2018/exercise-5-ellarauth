{
 "cells": [
  {
   "cell_type": "markdown",
   "metadata": {},
   "source": [
    "## Problem 2: Visualize an interactive map"
   ]
  },
  {
   "cell_type": "code",
   "execution_count": 1,
   "metadata": {},
   "outputs": [],
   "source": [
    "import geopandas as gpd\n",
    "import folium\n",
    "import matplotlib.pyplot as plt\n",
    "%matplotlib inline"
   ]
  },
  {
   "cell_type": "code",
   "execution_count": 2,
   "metadata": {},
   "outputs": [],
   "source": [
    "# reading in the population data file\n",
    "pop = gpd.read_file('data/Vaestoruudukko_2017.shp')\n",
    "\n",
    "# selecting the population density and geometry columns\n",
    "pop = pop[['ASVALJYYS', 'geometry']]\n",
    "\n",
    "# reprojecting the data\n",
    "pop = pop.to_crs(epsg=4326)\n",
    "\n",
    "# adding a geoid column for folium and reordering the columns\n",
    "pop['geoid'] = pop.index.astype(str)\n",
    "pop = pop[['geoid', 'ASVALJYYS', 'geometry']]"
   ]
  },
  {
   "cell_type": "code",
   "execution_count": 3,
   "metadata": {},
   "outputs": [
    {
     "data": {
      "image/png": "[encoded data removed]",
      "text/plain": [
       "<Figure size 432x288 with 1 Axes>"
      ]
     },
     "metadata": {},
     "output_type": "display_data"
    }
   ],
   "source": [
    "plt.hist(pop['ASVALJYYS'], bins=50);"
   ]
  },
  {
   "cell_type": "markdown",
   "metadata": {},
   "source": [
    "In the histogram it can be seen that there are a few grid cells with population densities over 100%. Including these values in the map makes the legend practically unreadable. Therefore I decided to exclude them in my map."
   ]
  },
  {
   "cell_type": "code",
   "execution_count": 4,
   "metadata": {},
   "outputs": [],
   "source": [
    "# creating a subset of the pop geodataframe where population density is less than or equal to 100%\n",
    "pop_sub = pop.loc[pop['ASVALJYYS'] <= 100]\n",
    "\n",
    "# saving the geodataframe as a json\n",
    "pop_sub_json = pop_sub.to_json()"
   ]
  },
  {
   "cell_type": "code",
   "execution_count": 6,
   "metadata": {},
   "outputs": [
    {
     "name": "stdout",
     "output_type": "stream",
     "text": [
      "quantiles:\n",
      "\n",
      "0.0     0.0\n",
      "0.2    32.0\n",
      "0.4    36.0\n",
      "0.6    40.0\n",
      "0.8    47.0\n",
      "1.0    99.0\n",
      "Name: ASVALJYYS, dtype: float64\n"
     ]
    }
   ],
   "source": [
    "# calculating the quantiles of the pop_sub dataframe\n",
    "quantiles = pop_sub['ASVALJYYS'].quantile([0, 0.2, 0.4, 0.6, 0.8, 1])\n",
    "\n",
    "print('quantiles:\\n')\n",
    "print(quantiles)"
   ]
  },
  {
   "cell_type": "code",
   "execution_count": 7,
   "metadata": {},
   "outputs": [],
   "source": [
    "# creating a folium map with initial focus on helsinki\n",
    "m = folium.Map(location=[60.25, 24.8], zoom_start=10, control_scale=True)\n",
    "\n",
    "# adding a choropleth layer of population density in helsinki\n",
    "m.choropleth(\n",
    "    geo_data=pop_sub_json,\n",
    "    data=pop_sub,\n",
    "    columns=['geoid', 'ASVALJYYS'],\n",
    "    key_on='feature.id',\n",
    "    fill_color='YlOrRd',\n",
    "    fill_opacity=0.7,\n",
    "    line_weight=0,\n",
    "    threshold_scale=quantiles.values,\n",
    "    legend_name= 'Population Density in Helsinki 2017')\n",
    "\n",
    "m.save('docs/population_density.html')"
   ]
  }
 ],
 "metadata": {
  "kernelspec": {
   "display_name": "Python 3",
   "language": "python",
   "name": "python3"
  },
  "language_info": {
   "codemirror_mode": {
    "name": "ipython",
    "version": 3
   },
   "file_extension": ".py",
   "mimetype": "text/x-python",
   "name": "python",
   "nbconvert_exporter": "python",
   "pygments_lexer": "ipython3",
   "version": "3.6.5"
  }
 },
 "nbformat": 4,
 "nbformat_minor": 2
}
