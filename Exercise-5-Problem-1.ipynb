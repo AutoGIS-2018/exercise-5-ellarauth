{
 "cells": [
  {
   "cell_type": "code",
   "execution_count": 1,
   "metadata": {},
   "outputs": [
    {
     "name": "stderr",
     "output_type": "stream",
     "text": [
      "/opt/conda/lib/python3.6/site-packages/pysal/__init__.py:65: VisibleDeprecationWarning: PySAL's API will be changed on 2018-12-31. The last release made with this API is version 1.14.4. A preview of the next API version is provided in the `pysal` 2.0 prelease candidate. The API changes and a guide on how to change imports is provided at https://pysal.org/about\n",
      "  ), VisibleDeprecationWarning)\n"
     ]
    }
   ],
   "source": [
    "import glob\n",
    "import numpy as np\n",
    "import pysal as ps\n",
    "import pandas as pd\n",
    "import geopandas as gpd\n",
    "import contextily as ctx\n",
    "from geopandas.tools import geocode\n",
    "import matplotlib.pyplot as plt\n",
    "%matplotlib inline"
   ]
  },
  {
   "cell_type": "code",
   "execution_count": 2,
   "metadata": {},
   "outputs": [],
   "source": [
    "# reading in the addresses of the six shopping centers and geocoding them\n",
    "addresses = pd.read_csv('data/addresses.txt', sep=';')\n",
    "addresses = geocode(addresses['address'], provider = 'nominatim', user_agent = 'autogis_student_er')"
   ]
  },
  {
   "cell_type": "code",
   "execution_count": 4,
   "metadata": {},
   "outputs": [],
   "source": [
    "# reading in the TravelTime filepaths and MetropAccess shape file\n",
    "filepaths = glob.glob('data/Travel*.txt')\n",
    "grid = gpd.read_file('data/MetropAccess_YKR_grid_EurefFIN.shp')\n",
    "\n",
    "# adding the car and pt data in the TravelTime files to the grid dataframe\n",
    "for idx, fp in enumerate(filepaths):\n",
    "    data = pd.read_csv(fp, sep=';')    \n",
    "    data = data[['from_id', 'pt_r_t', 'car_r_t']]\n",
    "    \n",
    "    data.rename(columns={'pt_r_t': ('pt_r_t_' + str(idx))}, inplace=True)\n",
    "    data.rename(columns={'car_r_t': ('car_r_t_' + str(idx))}, inplace=True)\n",
    "    \n",
    "    grid = grid.merge(data, left_on='YKR_ID', right_on='from_id')\n",
    "\n",
    "# reporojecting the two dataframes\n",
    "addresses = addresses.to_crs(epsg=3857)\n",
    "grid = grid.to_crs(epsg=3857)    \n",
    "\n",
    "# calculating the travel time by pt to the closest shopping center for each grid cell\n",
    "cols_pt = ['pt_r_t_'+str(i) for i in range(0,7)]\n",
    "grid['pt_min'] = grid[cols_pt].min(1)\n",
    "\n",
    "# calculating the travel time by car to the closest shopping center for each grid cell\n",
    "cols_car = ['car_r_t_'+str(i) for i in range(0,7)]\n",
    "grid['car_min'] = grid[cols_car].min(1)\n",
    "\n",
    "# creating a new dataframe that only has data for the car_min, pt_min, and geometry columns,\n",
    "# ignoring all columns where car_min or pt_min is -1 (no data)\n",
    "cols_subset = ['car_min', 'pt_min', 'geometry']\n",
    "travel_times = grid[cols_subset].loc[np.where((grid['pt_min'] != -1) & (grid['car_min'] != -1))]\n",
    "\n",
    "# creating a new column in the travel_times dataframe that shows the difference between travel\n",
    "# times by car and pt to each gridcell's closest shopping center\n",
    "travel_times['car_fast'] = travel_times['pt_min'] - travel_times['car_min']"
   ]
  },
  {
   "cell_type": "code",
   "execution_count": null,
   "metadata": {},
   "outputs": [
    {
     "name": "stderr",
     "output_type": "stream",
     "text": [
      "/opt/conda/lib/python3.6/site-packages/scipy/stats/stats.py:1713: FutureWarning: Using a non-tuple sequence for multidimensional indexing is deprecated; use `arr[tuple(seq)]` instead of `arr[seq]`. In the future this will be interpreted as an array index, `arr[np.array(seq)]`, which will result either in an error or a different result.\n",
      "  return np.add.reduce(sorted[indexer] * weights, axis=axis) / sumval\n"
     ]
    }
   ],
   "source": [
    "fig, ax = plt.subplots(nrows=1, ncols=1, figsize=(10, 10));\n",
    "\n",
    "# plotting the minutes saved from travelling by car (in comparison to travelling by pt) to \n",
    "# the nearest shopping center \n",
    "travel_times.plot(column=\"car_fast\", legend=True, cmap='Reds', linewidth=0, alpha=0.75, \n",
    "                       scheme='quantiles', k=8, ax=ax);\n",
    "\n",
    "# adding a basemap\n",
    "ctx.add_basemap(ax, url=ctx.tile_providers.ST_TONER_LITE);\n",
    "\n",
    "# plotting the locations of the shopping centers\n",
    "addresses['geometry'].plot(ax=ax, markersize=60);\n",
    "\n",
    "# adding a title to the map\n",
    "ax.set_title('Travel Times to Nearest Shopping Center\\nMinutes Saved When Travelling by Car, in Comparison to Public Transport');\n",
    "\n",
    "# setting the bounds for the map\n",
    "ax.set_xbound(2725000, 2815000);\n",
    "ax.set_ybound(8420000, 8490000);\n",
    "\n",
    "fig.tight_layout()\n",
    "fig.savefig('docs/Shopping_centers_accessibility_car_pt_comparisons.png')"
   ]
  },
  {
   "cell_type": "markdown",
   "metadata": {},
   "source": [
    "It seems that as long as one lives close to Helsinki's main trasport axes, one's nearest shopping center is about as far away by car as by public transport. In a few cases public transport is even faster. However, in the not so well connected parts of Helsinki (especially the north-west) travelling by car is much faster than by public transport."
   ]
  }
 ],
 "metadata": {
  "kernelspec": {
   "display_name": "Python 3",
   "language": "python",
   "name": "python3"
  },
  "language_info": {
   "codemirror_mode": {
    "name": "ipython",
    "version": 3
   },
   "file_extension": ".py",
   "mimetype": "text/x-python",
   "name": "python",
   "nbconvert_exporter": "python",
   "pygments_lexer": "ipython3",
   "version": "3.6.5"
  }
 },
 "nbformat": 4,
 "nbformat_minor": 2
}
